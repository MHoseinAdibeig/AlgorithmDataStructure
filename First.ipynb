{
 "cells": [
  {
   "cell_type": "markdown",
   "metadata": {},
   "source": [
    "How do you know which one is a better solution? How do you know which algorithm runs\n",
    "faster?\n",
    "Time complexity and Big O notation (discussed later in this chapter) are really good\n",
    "tools for answering these types of questions."
   ]
  },
  {
   "cell_type": "markdown",
   "metadata": {},
   "source": [
    "# **Big O notation**\n",
    "The different kinds of Big O notation types are discussed in this section\n",
    "1. Constant time (O(1)) complexity\n",
    "If an algorithm takes the same amount of time to run, independent of the size of\n",
    "the input data, it is said to run in constant time\n",
    "\n",
    "2. Linear time (O(n)) complexity\n",
    "An algorithm is said to have a complexity of linear time, represented by O(n), if the\n",
    "execution time is directly proportional to the size of the input\n",
    "\n",
    "def getSum(myList):\n",
    " sum = 0\n",
    " for item in myList:\n",
    "    sum = sum + item\n",
    " return sum\n",
    "\n",
    "The number of iterations in the main loop increases linearly with an increasing value of n\n",
    "\n",
    "3. Quadratic time (O(n2)) complexity\n",
    "An algorithm is said to run in quadratic time if the execution time of an algorithm is\n",
    "proportional to the square of the input size\n",
    "\n",
    "def getSum(myList):\n",
    " sum = 0\n",
    " for row in myList:\n",
    "     for item in row:\n",
    "         sum += item\n",
    " return sum\n",
    "\n",
    " 4. Logarithmic time (O(logn)) complexity\n",
    "\n",
    "An algorithm is said to run in logarithmic time if the execution time of the algorithm is\n",
    "proportional to the logarithm of the input size\n",
    "\n",
    "def searchBinary(myList,item):\n",
    "  first = 0\n",
    "  last = len(myList)-1\n",
    "  foundFlag = False\n",
    "  while( first<=last and not foundFlag):\n",
    "    mid = (first + last)//2\n",
    "    if myList[mid] == item :\n",
    "        foundFlag = True\n",
    "    else:\n",
    "        if item < myList[mid]:\n",
    "          last = mid - 1\n",
    "        else:\n",
    "          first = mid + 1\n",
    "  return foundFlag\n",
    "\n",
    "\n",
    "\n",
    "Note that among the four types of Big O notation types presented, O(n2) has the worst performance and O(logn) has the best performance. In fact, O(logn)'s performance can be thought of as the gold standard for the performance of any algorithm"
   ]
  },
  {
   "cell_type": "markdown",
   "metadata": {},
   "source": [
    "# **Data Structure Used in Algorithm**\n",
    "\n",
    "Data structures are used to store and manipulate complex data. In Python, there are five various data structures that can be used to\n",
    "store collections:\n",
    "    Lists: Ordered mutable sequences of elements\n",
    "    Tuples: Ordered immutable sequences of elements\n",
    "    Sets: Unordered bags of elements\n",
    "    Dictionary: Unordered bags of key-value pairs\n",
    "    Data frames: Two-dimensional structures to store two-dimensional data\n",
    "\n",
    "**List**\n",
    "The sequence of data elements stored in the list need not be of the same type\n",
    "\n",
    "**Lambda functions** \n",
    "There are a bunch of lambda functions that can be used on lists. They are specifically important in the context of algorithms and provide the ability to create a function on the fly\n",
    "1. Filtering data: "
   ]
  },
  {
   "cell_type": "code",
   "execution_count": null,
   "metadata": {},
   "outputs": [],
   "source": []
  }
 ],
 "metadata": {
  "kernelspec": {
   "display_name": "ReadSignal",
   "language": "python",
   "name": "readsignal"
  },
  "language_info": {
   "name": "python",
   "version": "3.10.4"
  }
 },
 "nbformat": 4,
 "nbformat_minor": 2
}
